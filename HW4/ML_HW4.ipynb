{
 "cells": [
  {
   "cell_type": "code",
   "execution_count": 1,
   "metadata": {},
   "outputs": [],
   "source": [
    "import numpy as np\n",
    "import pandas as pd\n",
    "import matplotlib.pyplot as plt\n",
    "%matplotlib inline"
   ]
  },
  {
   "cell_type": "code",
   "execution_count": 2,
   "metadata": {},
   "outputs": [],
   "source": [
    "def N(mean, sigma, num):\n",
    "    u = np.random.uniform(0, 1, num)\n",
    "    v = np.random.uniform(0, 1, num)\n",
    "    x = np.sqrt(-2*np.log(u)) * np.cos(2*np.pi*v)\n",
    "    return np.array(mean + sigma * x).reshape(-1, 1)"
   ]
  },
  {
   "cell_type": "code",
   "execution_count": 3,
   "metadata": {},
   "outputs": [
    {
     "data": {
      "image/png": "[encoded data removed]",
      "text/plain": [
       "<Figure size 432x288 with 1 Axes>"
      ]
     },
     "metadata": {},
     "output_type": "display_data"
    }
   ],
   "source": [
    "plt.style.use('ggplot')\n",
    "plt.hist(N(50, 3, 50000), bins=100, align='mid')\n",
    "plt.show()"
   ]
  },
  {
   "cell_type": "code",
   "execution_count": 4,
   "metadata": {},
   "outputs": [],
   "source": [
    "NUM = 50\n",
    "m_x1 = m_y1 = 1\n",
    "m_x2 = m_y2 = 3\n",
    "v_x1 = v_y1 = 2\n",
    "v_x2 = v_y2 = 4"
   ]
  },
  {
   "cell_type": "code",
   "execution_count": 5,
   "metadata": {},
   "outputs": [
    {
     "name": "stdout",
     "output_type": "stream",
     "text": [
      "D1 datasets: \n",
      "[[ 1.32050203  2.39340128]\n",
      " [-2.08809562  0.93407259]\n",
      " [ 1.79437245  3.20050075]\n",
      " [-0.60113057 -1.20183087]\n",
      " [ 0.82058224  1.43374927]]\n",
      "\n",
      "D2 datasets: \n",
      "[[ 8.4000633  -0.04483973]\n",
      " [-4.95347926 -2.56503991]\n",
      " [-5.1514184   0.55094311]\n",
      " [ 3.226835    4.3719662 ]\n",
      " [ 4.83546157  1.5873277 ]]\n"
     ]
    }
   ],
   "source": [
    "D1_x, D1_y = N(m_x1, v_x1, NUM), N(m_y1, v_y1, NUM)\n",
    "D1 = np.concatenate((D1_x, D1_y), axis=1)\n",
    "print(\"D1 datasets: \")\n",
    "print(D1[:5])\n",
    "\n",
    "D2_x, D2_y = N(m_x2, v_x2, NUM), N(m_y2, v_y2, NUM)\n",
    "D2 = np.concatenate((D2_x, D2_y), axis=1)\n",
    "print(\"\\nD2 datasets: \")\n",
    "print(D2[:5])"
   ]
  },
  {
   "cell_type": "code",
   "execution_count": 6,
   "metadata": {},
   "outputs": [
    {
     "data": {
      "image/png": "[encoded data removed]",
      "text/plain": [
       "<Figure size 144x360 with 1 Axes>"
      ]
     },
     "metadata": {},
     "output_type": "display_data"
    }
   ],
   "source": [
    "plt.figure(figsize=(2,5))\n",
    "plt.scatter(D1[:, 0], D1[:, 1], c='r')\n",
    "plt.scatter(D2[:, 0], D2[:, 1], c='b')\n",
    "plt.show()"
   ]
  },
  {
   "cell_type": "markdown",
   "metadata": {},
   "source": [
    "# Gradient ascent function"
   ]
  },
  {
   "cell_type": "code",
   "execution_count": 7,
   "metadata": {},
   "outputs": [],
   "source": [
    "def sigmoid(z):\n",
    "    return 1 / (1 + np.exp(-z))"
   ]
  },
  {
   "cell_type": "code",
   "execution_count": 8,
   "metadata": {},
   "outputs": [],
   "source": [
    "def log_likelihood(X, y, w):\n",
    "    z = np.dot(X, w)\n",
    "    ll = np.sum(y*z - np.log(1 + np.exp(z)))\n",
    "    return ll"
   ]
  },
  {
   "cell_type": "code",
   "execution_count": 9,
   "metadata": {},
   "outputs": [],
   "source": [
    "def gradient_ascent(X, y, iters, lr=0.03):\n",
    "    intercept = np.ones((X.shape[0], 1))\n",
    "    X = np.concatenate((intercept, X), axis=1)\n",
    "    weight = np.zeros((X.shape[1], 1))\n",
    "    for i in range(iters):\n",
    "        z = np.dot(X, weight)\n",
    "        h = sigmoid(z)\n",
    "        gradient = np.dot(X.T, (y - h))\n",
    "        weight = weight + gradient * lr\n",
    "#         if i % 100 == 0:\n",
    "#             print(log_likelihood(X, y, weight))\n",
    "            \n",
    "    return weight"
   ]
  },
  {
   "cell_type": "markdown",
   "metadata": {},
   "source": [
    "# 合併資料"
   ]
  },
  {
   "cell_type": "code",
   "execution_count": 10,
   "metadata": {},
   "outputs": [
    {
     "name": "stdout",
     "output_type": "stream",
     "text": [
      "D1 datasets: (50, 2)\n",
      "D2 datasets: (50, 2)\n",
      "D1 + D2 datasets: (100, 2)\n",
      "output datasets: (100, 1)\n"
     ]
    }
   ],
   "source": [
    "print(\"D1 datasets: %s\" % (D1.shape,))\n",
    "print(\"D2 datasets: %s\" % (D2.shape,))\n",
    "data = np.concatenate((D1, D2), axis=0)\n",
    "print(\"D1 + D2 datasets: %s\" % (data.shape, ))\n",
    "\n",
    "y1 = np.zeros((50, 1))\n",
    "y2 = np.ones((50, 1))\n",
    "output = np.concatenate((y1, y2), axis=0)\n",
    "print(\"output datasets: %s\" % (output.shape, ))"
   ]
  },
  {
   "cell_type": "code",
   "execution_count": 11,
   "metadata": {},
   "outputs": [
    {
     "name": "stdout",
     "output_type": "stream",
     "text": [
      "[[-69.23378446]\n",
      " [ 23.22819639]\n",
      " [ 43.74407526]]\n"
     ]
    }
   ],
   "source": [
    "w = gradient_ascent(data, output, 10000, lr=0.5)\n",
    "print(w)"
   ]
  },
  {
   "cell_type": "code",
   "execution_count": 12,
   "metadata": {},
   "outputs": [
    {
     "data": {
      "text/plain": [
       "array([[1],\n",
       "       [1],\n",
       "       [1],\n",
       "       [1],\n",
       "       [1],\n",
       "       [1],\n",
       "       [0],\n",
       "       [0],\n",
       "       [1],\n",
       "       [1]])"
      ]
     },
     "execution_count": 12,
     "metadata": {},
     "output_type": "execute_result"
    }
   ],
   "source": [
    "intercept = np.ones((data.shape[0], 1))\n",
    "X = np.concatenate((intercept, data), axis=1)\n",
    "zz = np.dot(X, w)\n",
    "y_pred = sigmoid(zz)\n",
    "yy = np.where(y_pred < 0.5, 0, 1)\n",
    "yy[45:55]"
   ]
  },
  {
   "cell_type": "markdown",
   "metadata": {},
   "source": [
    "# 作圖"
   ]
  },
  {
   "cell_type": "code",
   "execution_count": 13,
   "metadata": {},
   "outputs": [
    {
     "data": {
      "text/html": [
       "<div>\n",
       "<style scoped>\n",
       "    .dataframe tbody tr th:only-of-type {\n",
       "        vertical-align: middle;\n",
       "    }\n",
       "\n",
       "    .dataframe tbody tr th {\n",
       "        vertical-align: top;\n",
       "    }\n",
       "\n",
       "    .dataframe thead th {\n",
       "        text-align: right;\n",
       "    }\n",
       "</style>\n",
       "<table border=\"1\" class=\"dataframe\">\n",
       "  <thead>\n",
       "    <tr style=\"text-align: right;\">\n",
       "      <th></th>\n",
       "      <th>x</th>\n",
       "      <th>y</th>\n",
       "      <th>class</th>\n",
       "      <th>Group</th>\n",
       "    </tr>\n",
       "  </thead>\n",
       "  <tbody>\n",
       "    <tr>\n",
       "      <th>0</th>\n",
       "      <td>1.320502</td>\n",
       "      <td>2.393401</td>\n",
       "      <td>1</td>\n",
       "      <td>0</td>\n",
       "    </tr>\n",
       "    <tr>\n",
       "      <th>1</th>\n",
       "      <td>-2.088096</td>\n",
       "      <td>0.934073</td>\n",
       "      <td>0</td>\n",
       "      <td>0</td>\n",
       "    </tr>\n",
       "    <tr>\n",
       "      <th>2</th>\n",
       "      <td>1.794372</td>\n",
       "      <td>3.200501</td>\n",
       "      <td>1</td>\n",
       "      <td>0</td>\n",
       "    </tr>\n",
       "    <tr>\n",
       "      <th>3</th>\n",
       "      <td>-0.601131</td>\n",
       "      <td>-1.201831</td>\n",
       "      <td>0</td>\n",
       "      <td>0</td>\n",
       "    </tr>\n",
       "    <tr>\n",
       "      <th>4</th>\n",
       "      <td>0.820582</td>\n",
       "      <td>1.433749</td>\n",
       "      <td>1</td>\n",
       "      <td>0</td>\n",
       "    </tr>\n",
       "    <tr>\n",
       "      <th>5</th>\n",
       "      <td>3.516485</td>\n",
       "      <td>0.808566</td>\n",
       "      <td>1</td>\n",
       "      <td>0</td>\n",
       "    </tr>\n",
       "    <tr>\n",
       "      <th>6</th>\n",
       "      <td>2.308407</td>\n",
       "      <td>4.702829</td>\n",
       "      <td>1</td>\n",
       "      <td>0</td>\n",
       "    </tr>\n",
       "    <tr>\n",
       "      <th>7</th>\n",
       "      <td>1.989930</td>\n",
       "      <td>-0.829568</td>\n",
       "      <td>0</td>\n",
       "      <td>0</td>\n",
       "    </tr>\n",
       "    <tr>\n",
       "      <th>8</th>\n",
       "      <td>1.868149</td>\n",
       "      <td>4.204956</td>\n",
       "      <td>1</td>\n",
       "      <td>0</td>\n",
       "    </tr>\n",
       "    <tr>\n",
       "      <th>9</th>\n",
       "      <td>-1.554548</td>\n",
       "      <td>3.141242</td>\n",
       "      <td>1</td>\n",
       "      <td>0</td>\n",
       "    </tr>\n",
       "  </tbody>\n",
       "</table>\n",
       "</div>"
      ],
      "text/plain": [
       "          x         y  class  Group\n",
       "0  1.320502  2.393401      1      0\n",
       "1 -2.088096  0.934073      0      0\n",
       "2  1.794372  3.200501      1      0\n",
       "3 -0.601131 -1.201831      0      0\n",
       "4  0.820582  1.433749      1      0\n",
       "5  3.516485  0.808566      1      0\n",
       "6  2.308407  4.702829      1      0\n",
       "7  1.989930 -0.829568      0      0\n",
       "8  1.868149  4.204956      1      0\n",
       "9 -1.554548  3.141242      1      0"
      ]
     },
     "execution_count": 13,
     "metadata": {},
     "output_type": "execute_result"
    }
   ],
   "source": [
    "D = pd.DataFrame(data, columns=['x', 'y'])\n",
    "outy = pd.DataFrame(yy, columns=['class'])\n",
    "myPoint = pd.concat([D, outy], axis=1)\n",
    "myPoint['Group'] = output.astype(int)\n",
    "myPoint.head(10)"
   ]
  },
  {
   "cell_type": "code",
   "execution_count": 14,
   "metadata": {},
   "outputs": [
    {
     "name": "stdout",
     "output_type": "stream",
     "text": [
      "Confusion Matrix:\n",
      "\t     Predict cluster 1 Predict cluster 2\n",
      "Is cluster 1\t   21\t\t      29\t\t\n",
      "Is cluster 2\t   10\t\t      40\t\t\n",
      "\n",
      "Sensitivity (Successfully predict cluster 1): 0.42000\n",
      "Specificity (Successfully predict cluster 2): 0.80000\n"
     ]
    }
   ],
   "source": [
    "print(\"Confusion Matrix:\")\n",
    "print(\"\\t     Predict cluster 1 Predict cluster 2\")\n",
    "predict = []\n",
    "for group in range(2):\n",
    "    for pred in range(2):\n",
    "        predict.append(((myPoint['Group'] == group)&(myPoint['class'] == pred)).sum())\n",
    "for group in range(2):\n",
    "    print(\"Is cluster %d\\t\" % (group+1), end='')\n",
    "    print(\"   %d\\t\\t\" % predict[group*2], end='   ')\n",
    "    print(\"   %d\\t\\t\" % predict[group*2+1])\n",
    "print(\"\\nSensitivity (Successfully predict cluster 1): %.5f\" % (predict[0] / (predict[0]+predict[1])))\n",
    "print(\"Specificity (Successfully predict cluster 2): %.5f\" % (predict[3] / (predict[2]+predict[3])))"
   ]
  },
  {
   "cell_type": "code",
   "execution_count": 15,
   "metadata": {},
   "outputs": [
    {
     "data": {
      "image/png": "[encoded data removed]",
      "text/plain": [
       "<Figure size 144x360 with 1 Axes>"
      ]
     },
     "metadata": {},
     "output_type": "display_data"
    }
   ],
   "source": [
    "plt.figure(figsize=(2,5))\n",
    "plt.scatter(myPoint.loc[myPoint['class'] == 0]['x'], myPoint.loc[myPoint['class'] == 0]['y'], c='r')\n",
    "plt.scatter(myPoint.loc[myPoint['class'] == 1]['x'], myPoint.loc[myPoint['class'] == 1]['y'], c='b')\n",
    "plt.show()"
   ]
  },
  {
   "cell_type": "code",
   "execution_count": 16,
   "metadata": {
    "scrolled": true
   },
   "outputs": [
    {
     "name": "stdout",
     "output_type": "stream",
     "text": [
      "(100, 3)\n",
      "break in 5\n"
     ]
    }
   ],
   "source": [
    "from numpy.linalg import inv\n",
    "w = np.zeros((3, 1))\n",
    "\n",
    "intercept = np.ones((data.shape[0], 1))\n",
    "X = np.concatenate((intercept, data), axis=1)\n",
    "print(X.shape)\n",
    "l_g = np.zeros((3, 1))\n",
    "for i in range(100000):\n",
    "    z = np.dot(X, w)\n",
    "    D = sigmoid(z) * (1 - sigmoid(z)) * np.identity(100)\n",
    "    HJ = np.dot(X.T, np.dot(D, X))\n",
    "    s = sigmoid(z) - output\n",
    "    grad = np.dot(inv(HJ), np.dot(X.T, s))\n",
    "\n",
    "    if grad.sum() < 1e-50:\n",
    "        print(\"break in %d\" % i)\n",
    "        break\n",
    "    else:\n",
    "        l_g = grad    \n",
    "        \n",
    "    w = w - grad\n",
    "# print(w)"
   ]
  },
  {
   "cell_type": "code",
   "execution_count": 17,
   "metadata": {},
   "outputs": [
    {
     "name": "stdout",
     "output_type": "stream",
     "text": [
      "[[-0.98737042]\n",
      " [ 0.19233945]\n",
      " [ 0.25389852]]\n"
     ]
    }
   ],
   "source": [
    "intercept = np.ones((data.shape[0], 1))\n",
    "X = np.concatenate((intercept, data), axis=1)\n",
    "print(w)\n",
    "zz = np.dot(X, w)\n",
    "y_pred = sigmoid(zz)\n",
    "yy = np.where(y_pred < 0.5, 0, 1)"
   ]
  },
  {
   "cell_type": "code",
   "execution_count": 18,
   "metadata": {},
   "outputs": [
    {
     "data": {
      "image/png": "[encoded data removed]",
      "text/plain": [
       "<Figure size 144x360 with 1 Axes>"
      ]
     },
     "metadata": {},
     "output_type": "display_data"
    }
   ],
   "source": [
    "D = pd.DataFrame(data, columns=['x', 'y'])\n",
    "outy = pd.DataFrame(yy, columns=['class'])\n",
    "myPoint = pd.concat([D, outy], axis=1)\n",
    "myPoint['Group'] = output.astype(int)\n",
    "myPoint.head(10)\n",
    "plt.figure(figsize=(2,5))\n",
    "plt.scatter(myPoint.loc[myPoint['class'] == 0]['x'], myPoint.loc[myPoint['class'] == 0]['y'], c='r')\n",
    "plt.scatter(myPoint.loc[myPoint['class'] == 1]['x'], myPoint.loc[myPoint['class'] == 1]['y'], c='b')\n",
    "plt.show()"
   ]
  },
  {
   "cell_type": "markdown",
   "metadata": {},
   "source": [
    "# 統計"
   ]
  },
  {
   "cell_type": "code",
   "execution_count": 19,
   "metadata": {},
   "outputs": [
    {
     "name": "stdout",
     "output_type": "stream",
     "text": [
      "Confusion Matrix:\n",
      "\t     Predict cluster 1 Predict cluster 2\n",
      "Is cluster 1\t   39\t\t      11\t\t\n",
      "Is cluster 2\t   16\t\t      34\t\t\n",
      "\n",
      "Sensitivity (Successfully predict cluster 1): 0.78000\n",
      "Specificity (Successfully predict cluster 2): 0.68000\n"
     ]
    }
   ],
   "source": [
    "print(\"Confusion Matrix:\")\n",
    "print(\"\\t     Predict cluster 1 Predict cluster 2\")\n",
    "predict = []\n",
    "for group in range(2):\n",
    "    for pred in range(2):\n",
    "        predict.append(((myPoint['Group'] == group)&(myPoint['class'] == pred)).sum())\n",
    "for group in range(2):\n",
    "    print(\"Is cluster %d\\t\" % (group+1), end='')\n",
    "    print(\"   %d\\t\\t\" % predict[group*2], end='   ')\n",
    "    print(\"   %d\\t\\t\" % predict[group*2+1])\n",
    "print(\"\\nSensitivity (Successfully predict cluster 1): %.5f\" % (predict[0] / (predict[0]+predict[1])))\n",
    "print(\"Specificity (Successfully predict cluster 2): %.5f\" % (predict[3] / (predict[2]+predict[3])))"
   ]
  },
  {
   "cell_type": "code",
   "execution_count": 20,
   "metadata": {},
   "outputs": [],
   "source": [
    "from PIL import Image\n",
    "from matplotlib.pyplot import imshow, imsave"
   ]
  },
  {
   "cell_type": "code",
   "execution_count": 21,
   "metadata": {},
   "outputs": [
    {
     "name": "stdout",
     "output_type": "stream",
     "text": [
      "magic_num = 2051\n",
      "total_img = 60000\n",
      "rows = 28\n",
      "cols = 28\n"
     ]
    }
   ],
   "source": [
    "with open(\"train-images.idx3-ubyte\", \"rb\") as f:\n",
    "    byte = f.read(4)\n",
    "    magic_num = int.from_bytes(byte,byteorder='big')\n",
    "    print('magic_num = %d' % magic_num)\n",
    "    \n",
    "    byte = f.read(4)\n",
    "    total_img = int.from_bytes(byte,byteorder='big')\n",
    "    print('total_img = %d' % total_img)\n",
    "    \n",
    "    byte = f.read(4)\n",
    "    rows = int.from_bytes(byte,byteorder='big')\n",
    "    print('rows = %d' % rows)\n",
    "    \n",
    "    byte = f.read(4)\n",
    "    cols = int.from_bytes(byte,byteorder='big')\n",
    "    print('cols = %d' % cols)\n",
    "    \n",
    "    total = []\n",
    "    for epoch in range(total_img):\n",
    "        pic = []\n",
    "        for i in range(28):\n",
    "            l = []\n",
    "            for j in range(28):\n",
    "                byte = f.read(1)\n",
    "                l.append(int.from_bytes(byte,byteorder='big', signed=False))\n",
    "            pic.append(np.asarray(l))\n",
    "        total.append(pic)\n",
    "    a = np.array(total).reshape(60000, 784)"
   ]
  },
  {
   "cell_type": "code",
   "execution_count": 22,
   "metadata": {},
   "outputs": [],
   "source": [
    "a = np.where(a < 128, 0, 1)"
   ]
  },
  {
   "cell_type": "code",
   "execution_count": 23,
   "metadata": {},
   "outputs": [
    {
     "data": {
      "image/png": "[encoded data removed]",
      "text/plain": [
       "<Figure size 432x288 with 1 Axes>"
      ]
     },
     "metadata": {},
     "output_type": "display_data"
    }
   ],
   "source": [
    "imshow(a[59999].reshape(28,28), cmap='gray')\n",
    "plt.show()"
   ]
  },
  {
   "cell_type": "code",
   "execution_count": 29,
   "metadata": {},
   "outputs": [
    {
     "name": "stdout",
     "output_type": "stream",
     "text": [
      "各數字初始機率: \n",
      " [0.1 0.1 0.1 0.1 0.1 0.1 0.1 0.1 0.1 0.1]\n",
      "\n",
      "各數字在不同pixel出現為\"0\"初始機率: \n",
      " [[0.55 0.55 0.55 ... 0.55 0.55 0.55]\n",
      " [0.55 0.55 0.55 ... 0.55 0.55 0.55]\n",
      " [0.55 0.55 0.55 ... 0.55 0.55 0.55]\n",
      " ...\n",
      " [0.55 0.55 0.55 ... 0.55 0.55 0.55]\n",
      " [0.55 0.55 0.55 ... 0.55 0.55 0.55]\n",
      " [0.55 0.55 0.55 ... 0.55 0.55 0.55]]\n",
      "iter: 0\n"
     ]
    },
    {
     "data": {
      "image/png": "[encoded data removed]",
      "text/plain": [
       "<Figure size 864x864 with 10 Axes>"
      ]
     },
     "metadata": {},
     "output_type": "display_data"
    },
    {
     "name": "stdout",
     "output_type": "stream",
     "text": [
      "iter: 1\n"
     ]
    },
    {
     "data": {
      "image/png": "[encoded data removed]",
      "text/plain": [
       "<Figure size 864x864 with 10 Axes>"
      ]
     },
     "metadata": {},
     "output_type": "display_data"
    },
    {
     "name": "stdout",
     "output_type": "stream",
     "text": [
      "iter: 2\n"
     ]
    },
    {
     "data": {
      "image/png": "[encoded data removed]",
      "text/plain": [
       "<Figure size 864x864 with 10 Axes>"
      ]
     },
     "metadata": {},
     "output_type": "display_data"
    },
    {
     "name": "stdout",
     "output_type": "stream",
     "text": [
      "iter: 3\n"
     ]
    },
    {
     "data": {
      "image/png": "[encoded data removed]",
      "text/plain": [
       "<Figure size 864x864 with 10 Axes>"
      ]
     },
     "metadata": {},
     "output_type": "display_data"
    },
    {
     "name": "stdout",
     "output_type": "stream",
     "text": [
      "iter: 4\n"
     ]
    },
    {
     "data": {
      "image/png": "[encoded data removed]",
      "text/plain": [
       "<Figure size 864x864 with 10 Axes>"
      ]
     },
     "metadata": {},
     "output_type": "display_data"
    },
    {
     "name": "stdout",
     "output_type": "stream",
     "text": [
      "iter: 5\n"
     ]
    },
    {
     "data": {
      "image/png": "[encoded data removed]",
      "text/plain": [
       "<Figure size 864x864 with 10 Axes>"
      ]
     },
     "metadata": {},
     "output_type": "display_data"
    },
    {
     "name": "stdout",
     "output_type": "stream",
     "text": [
      "iter: 6\n"
     ]
    },
    {
     "data": {
      "image/png": "[encoded data removed]",
      "text/plain": [
       "<Figure size 864x864 with 10 Axes>"
      ]
     },
     "metadata": {},
     "output_type": "display_data"
    },
    {
     "name": "stdout",
     "output_type": "stream",
     "text": [
      "iter: 7\n"
     ]
    },
    {
     "data": {
      "image/png": "[encoded data removed]",
      "text/plain": [
       "<Figure size 864x864 with 10 Axes>"
      ]
     },
     "metadata": {},
     "output_type": "display_data"
    },
    {
     "name": "stdout",
     "output_type": "stream",
     "text": [
      "iter: 8\n"
     ]
    },
    {
     "data": {
      "image/png": "[encoded data removed]",
      "text/plain": [
       "<Figure size 864x864 with 10 Axes>"
      ]
     },
     "metadata": {},
     "output_type": "display_data"
    },
    {
     "name": "stdout",
     "output_type": "stream",
     "text": [
      "iter: 9\n"
     ]
    },
    {
     "data": {
      "image/png": "[encoded data removed]",
      "text/plain": [
       "<Figure size 864x864 with 10 Axes>"
      ]
     },
     "metadata": {},
     "output_type": "display_data"
    }
   ],
   "source": [
    "class_p = np.full(10, 0.1)\n",
    "print(\"各數字初始機率: \\n\", class_p)\n",
    "\n",
    "num_index = [1, 8, 5, 7, 9, 0, 32, 15, 41, 4]\n",
    "prob = np.where(a[num_index] < 1, 0.55, 0.45)\n",
    "\n",
    "print(\"\\n各數字在不同pixel出現為\\\"0\\\"初始機率: \\n\", prob)\n",
    "\n",
    "TOTAL = 2500\n",
    "\n",
    "# E step:\n",
    "for times in range(10): \n",
    "    # w (數字類別 , 第幾張) 的機率\n",
    "    w = np.ones((10, TOTAL))\n",
    "    # 算所有圖片\n",
    "    for picture in range(TOTAL):\n",
    "        # 計算這張照片在 0-9 的機率為\n",
    "        for pixel_class in range(10):\n",
    "            w[pixel_class, picture] = w[pixel_class, picture] * class_p[pixel_class]\n",
    "            for pixel, pixel_value in enumerate(a[picture]):\n",
    "                pixel_porb = prob[pixel_class, pixel]\n",
    "                if pixel_value == 1:\n",
    "                    pixel_porb = 1 - prob[pixel_class, pixel]\n",
    "                w[pixel_class, picture] = w[pixel_class, picture] * pixel_porb\n",
    "                if pixel % 7 == 0:\n",
    "                    w[pixel_class, picture] = w[pixel_class, picture] * 100\n",
    "        w[:, picture] = w[:, picture] / w[:, picture].sum()\n",
    "    \n",
    "# M step:\n",
    "    # 1. 更新各數字出現機率\n",
    "    class_p = w.sum(axis=1) / TOTAL\n",
    "    # 2. 更新各數字在不同 pixel 出現為 \"0\" 機率\n",
    "    for pixel_class in range(10):\n",
    "        for pixel in range(784):\n",
    "            prob[pixel_class, pixel] = w[pixel_class, np.where(a[:TOTAL, pixel] == 0)].sum() / w[pixel_class, :TOTAL].sum()\n",
    "    \n",
    "    # 作圖\n",
    "    print(\"iter: %d\" % times)\n",
    "    fig, figarr = plt.subplots(1, 10, figsize=(12, 12))\n",
    "    for number in range(10):\n",
    "        tmp = np.where(prob[number, :] > 0.5, 0, 1).reshape(28, 28)\n",
    "        figarr[number].imshow(tmp, cmap='gray')\n",
    "        figarr[number].axes.get_xaxis().set_visible(False)\n",
    "        figarr[number].axes.get_yaxis().set_visible(False)\n",
    "    plt.show()"
   ]
  },
  {
   "cell_type": "code",
   "execution_count": 30,
   "metadata": {},
   "outputs": [
    {
     "name": "stdout",
     "output_type": "stream",
     "text": [
      "magic_num = 2049\n",
      "total_label = 60000\n"
     ]
    }
   ],
   "source": [
    "with open(\"train-labels.idx1-ubyte\", \"rb\") as f:\n",
    "    \n",
    "    byte = f.read(4)\n",
    "    magic_num = int.from_bytes(byte,byteorder='big')\n",
    "    print('magic_num = %d' % magic_num)\n",
    "    \n",
    "    byte = f.read(4)\n",
    "    total_label = int.from_bytes(byte,byteorder='big')\n",
    "    print('total_label = %d' % total_label)\n",
    "    \n",
    "    ans = []\n",
    "    ans_dict={}\n",
    "    for i in range(10):\n",
    "        ans_dict[i] = []\n",
    "        \n",
    "    for i in range(total_label):\n",
    "        byte = f.read(1)\n",
    "        label = int.from_bytes(byte,byteorder='big')\n",
    "        ans_dict[label].append(i)\n",
    "        ans.append(label)"
   ]
  },
  {
   "cell_type": "markdown",
   "metadata": {},
   "source": [
    "# 檢驗答案"
   ]
  },
  {
   "cell_type": "code",
   "execution_count": 34,
   "metadata": {},
   "outputs": [
    {
     "data": {
      "image/png": "[encoded data removed]",
      "text/plain": [
       "<Figure size 864x864 with 10 Axes>"
      ]
     },
     "metadata": {},
     "output_type": "display_data"
    }
   ],
   "source": [
    "fig, figarr = plt.subplots(1, 10, figsize=(12, 12))\n",
    "for number in range(10):\n",
    "    tmp = a[number].reshape(28, 28)\n",
    "    figarr[number].imshow(tmp, cmap='gray')\n",
    "    figarr[number].set_title(ans[number])\n",
    "    figarr[number].axes.get_xaxis().set_visible(False)\n",
    "    figarr[number].axes.get_yaxis().set_visible(False)\n",
    "plt.show()"
   ]
  },
  {
   "cell_type": "code",
   "execution_count": 38,
   "metadata": {},
   "outputs": [],
   "source": [
    "EM_ans = np.where(prob >= 0.5, 0, 1)"
   ]
  },
  {
   "cell_type": "code",
   "execution_count": 39,
   "metadata": {},
   "outputs": [
    {
     "data": {
      "text/plain": [
       "(10, 784)"
      ]
     },
     "execution_count": 39,
     "metadata": {},
     "output_type": "execute_result"
    }
   ],
   "source": [
    "EM_ans.shape"
   ]
  },
  {
   "cell_type": "markdown",
   "metadata": {},
   "source": [
    "# EM歸類的答案"
   ]
  },
  {
   "cell_type": "code",
   "execution_count": 45,
   "metadata": {},
   "outputs": [
    {
     "data": {
      "image/png": "[encoded data removed]",
      "text/plain": [
       "<Figure size 864x864 with 10 Axes>"
      ]
     },
     "metadata": {},
     "output_type": "display_data"
    }
   ],
   "source": [
    "fig, figarr = plt.subplots(1, 10, figsize=(12, 12))\n",
    "for number in range(10):\n",
    "    tmp = EM_ans[number].reshape(28, 28)\n",
    "    figarr[number].imshow(tmp, cmap='gray')\n",
    "#     figarr[number].set_title(ans[number])\n",
    "    figarr[number].axes.get_xaxis().set_visible(False)\n",
    "    figarr[number].axes.get_yaxis().set_visible(False)\n",
    "plt.show()"
   ]
  },
  {
   "cell_type": "code",
   "execution_count": 62,
   "metadata": {},
   "outputs": [
    {
     "name": "stdout",
     "output_type": "stream",
     "text": [
      "641\n",
      "664\n",
      "645\n",
      "690\n",
      "661\n",
      "684\n",
      "664\n",
      "678\n",
      "665\n",
      "656\n"
     ]
    }
   ],
   "source": [
    "for i in range(10):\n",
    "    print(len(np.where((a[0,:] - EM_ans[i,:]) == 0)[0]))"
   ]
  },
  {
   "cell_type": "code",
   "execution_count": 72,
   "metadata": {},
   "outputs": [],
   "source": [
    "tmp = np.where((a[0,:] - EM_ans[:,:]) == 0, 1, 0)"
   ]
  },
  {
   "cell_type": "code",
   "execution_count": 77,
   "metadata": {},
   "outputs": [
    {
     "name": "stdout",
     "output_type": "stream",
     "text": [
      "predict: 3, ans: 3\n",
      "predict: 1, ans: 5\n",
      "predict: 5, ans: 3\n",
      "predict: 6, ans: 6\n",
      "predict: 1, ans: 1\n",
      "predict: 7, ans: 7\n",
      "predict: 2, ans: 2\n",
      "predict: 8, ans: 8\n",
      "predict: 5, ans: 6\n",
      "predict: 7, ans: 9\n",
      "predict: 9, ans: 4\n",
      "predict: 0, ans: 0\n",
      "predict: 4, ans: 9\n",
      "predict: 1, ans: 1\n",
      "predict: 4, ans: 1\n"
     ]
    }
   ],
   "source": [
    "for n in range(10, 25):\n",
    "    tmp = np.where((a[n,:] - EM_ans[:,:]) == 0, 1, 0)\n",
    "    print(\"predict: %d, ans: %d\" % (np.argmax(tmp.sum(axis=1).reshape(10,-1)), ans[n]))\n",
    "#     print(\"ans: \")"
   ]
  },
  {
   "cell_type": "code",
   "execution_count": 89,
   "metadata": {},
   "outputs": [],
   "source": [
    "cm = np.zeros((10,10))\n",
    "for n in range(60000):\n",
    "    tmp = np.where((a[n,:] - EM_ans[:,:]) == 0, 1, 0)\n",
    "    cm[ans[n], np.argmax(tmp.sum(axis=1).reshape(10,-1))] += 1"
   ]
  },
  {
   "cell_type": "code",
   "execution_count": 100,
   "metadata": {},
   "outputs": [
    {
     "data": {
      "text/plain": [
       "array([[4403,  155,   21,  131,  270,  440,  306,  122,   55,   20],\n",
       "       [   0, 6653,    7,    2,   19,   29,    6,   13,   11,    2],\n",
       "       [  64, 1537, 2976,  297,  226,  227,   72,  211,  241,  107],\n",
       "       [  27,  559,   36, 2167,   72, 2921,   40,  118,  102,   89],\n",
       "       [   4,  495,  145,    0, 1181,   13,  188,  396,   15, 3405],\n",
       "       [  98,  554,   23,  387, 1259, 2243,   88,  191,  215,  363],\n",
       "       [  99,  789,  395,    8,  456,  152, 3688,    3,    9,  319],\n",
       "       [  20,  917,   15,    1,  120,   21,    6, 3628,   13, 1524],\n",
       "       [  35,  924,   62,  189,  172, 1352,   51,  219, 2592,  255],\n",
       "       [  39,  488,   69,   28,  306,  150,   28, 1869,   18, 2954]])"
      ]
     },
     "execution_count": 100,
     "metadata": {},
     "output_type": "execute_result"
    }
   ],
   "source": [
    "np.set_printoptions(suppress=True)\n",
    "cm.astype(int)"
   ]
  },
  {
   "cell_type": "code",
   "execution_count": 105,
   "metadata": {},
   "outputs": [
    {
     "name": "stdout",
     "output_type": "stream",
     "text": [
      "Confusion Matrix 0\n",
      "\t     Predict number 0 Predict not number 0\n",
      "Is number 0\t   4403\t\t   1520\t\t\n",
      "Is not number 0\t   386\t\t  53691\t\t\n",
      "\n",
      "Sensitivity (Successfully predict number 0): 0.74337\n",
      "Specificity (Successfully predict number 0): 0.99286\n",
      "\n",
      "------------------------------------------------\n",
      "\n",
      "Confusion Matrix 1\n",
      "\t     Predict number 1 Predict not number 1\n",
      "Is number 1\t   6653\t\t   89\t\t\n",
      "Is not number 1\t   6418\t\t  46840\t\t\n",
      "\n",
      "Sensitivity (Successfully predict number 1): 0.98680\n",
      "Specificity (Successfully predict number 1): 0.87949\n",
      "\n",
      "------------------------------------------------\n",
      "\n",
      "Confusion Matrix 2\n",
      "\t     Predict number 2 Predict not number 2\n",
      "Is number 2\t   2976\t\t   2982\t\t\n",
      "Is not number 2\t   773\t\t  53269\t\t\n",
      "\n",
      "Sensitivity (Successfully predict number 2): 0.49950\n",
      "Specificity (Successfully predict number 2): 0.98570\n",
      "\n",
      "------------------------------------------------\n",
      "\n",
      "Confusion Matrix 3\n",
      "\t     Predict number 3 Predict not number 3\n",
      "Is number 3\t   2167\t\t   3964\t\t\n",
      "Is not number 3\t   1043\t\t  52826\t\t\n",
      "\n",
      "Sensitivity (Successfully predict number 3): 0.35345\n",
      "Specificity (Successfully predict number 3): 0.98064\n",
      "\n",
      "------------------------------------------------\n",
      "\n",
      "Confusion Matrix 4\n",
      "\t     Predict number 4 Predict not number 4\n",
      "Is number 4\t   1181\t\t   4661\t\t\n",
      "Is not number 4\t   2900\t\t  51258\t\t\n",
      "\n",
      "Sensitivity (Successfully predict number 4): 0.20216\n",
      "Specificity (Successfully predict number 4): 0.94645\n",
      "\n",
      "------------------------------------------------\n",
      "\n",
      "Confusion Matrix 5\n",
      "\t     Predict number 5 Predict not number 5\n",
      "Is number 5\t   2243\t\t   3178\t\t\n",
      "Is not number 5\t   5305\t\t  49274\t\t\n",
      "\n",
      "Sensitivity (Successfully predict number 5): 0.41376\n",
      "Specificity (Successfully predict number 5): 0.90280\n",
      "\n",
      "------------------------------------------------\n",
      "\n",
      "Confusion Matrix 6\n",
      "\t     Predict number 6 Predict not number 6\n",
      "Is number 6\t   3688\t\t   2230\t\t\n",
      "Is not number 6\t   785\t\t  53297\t\t\n",
      "\n",
      "Sensitivity (Successfully predict number 6): 0.62318\n",
      "Specificity (Successfully predict number 6): 0.98549\n",
      "\n",
      "------------------------------------------------\n",
      "\n",
      "Confusion Matrix 7\n",
      "\t     Predict number 7 Predict not number 7\n",
      "Is number 7\t   3628\t\t   2637\t\t\n",
      "Is not number 7\t   3142\t\t  50593\t\t\n",
      "\n",
      "Sensitivity (Successfully predict number 7): 0.57909\n",
      "Specificity (Successfully predict number 7): 0.94153\n",
      "\n",
      "------------------------------------------------\n",
      "\n",
      "Confusion Matrix 8\n",
      "\t     Predict number 8 Predict not number 8\n",
      "Is number 8\t   2592\t\t   3259\t\t\n",
      "Is not number 8\t   679\t\t  53470\t\t\n",
      "\n",
      "Sensitivity (Successfully predict number 8): 0.44300\n",
      "Specificity (Successfully predict number 8): 0.98746\n",
      "\n",
      "------------------------------------------------\n",
      "\n",
      "Confusion Matrix 9\n",
      "\t     Predict number 9 Predict not number 9\n",
      "Is number 9\t   2954\t\t   2995\t\t\n",
      "Is not number 9\t   6084\t\t  47967\t\t\n",
      "\n",
      "Sensitivity (Successfully predict number 9): 0.49655\n",
      "Specificity (Successfully predict number 9): 0.88744\n",
      "\n",
      "------------------------------------------------\n",
      "\n"
     ]
    }
   ],
   "source": [
    "for number in range(10):\n",
    "    print(\"Confusion Matrix %d\" % number)\n",
    "    print(\"\\t     Predict number %d Predict not number %d\" % (number, number))\n",
    "    a = cm[number, number]\n",
    "    b = cm[number, :number].sum() + cm[number, number+1:].sum()\n",
    "    c = cm[:number, number].sum() + cm[number+1:, number].sum()\n",
    "    d = cm[:number, :number].sum() + cm[:number, number+1:].sum()+\\\n",
    "        cm[number+1:, :number].sum() + cm[number+1:, number+1:].sum()\n",
    "    print(\"Is number %d\\t   %d\\t\\t   %d\\t\\t\" % (number, a, b))\n",
    "    print(\"Is not number %d\\t   %d\\t\\t  %d\\t\\t\" % (number, c, d))\n",
    "    print(\"\\nSensitivity (Successfully predict number %d): %.5f\" % (number, a / (a+b)))\n",
    "    print(\"Specificity (Successfully predict number %d): %.5f\" % (number, d / (c+d)))\n",
    "    print(\"\\n------------------------------------------------\\n\")"
   ]
  },
  {
   "cell_type": "code",
   "execution_count": 107,
   "metadata": {},
   "outputs": [
    {
     "name": "stdout",
     "output_type": "stream",
     "text": [
      "Error rate: 0.45858\n"
     ]
    }
   ],
   "source": [
    "acc = 0\n",
    "for i in range(10):\n",
    "    acc += cm[i, i]\n",
    "print(\"Error rate: %.5f\" % (1 - acc / 60000))"
   ]
  },
  {
   "cell_type": "code",
   "execution_count": null,
   "metadata": {},
   "outputs": [],
   "source": []
  },
  {
   "cell_type": "code",
   "execution_count": null,
   "metadata": {},
   "outputs": [],
   "source": []
  }
 ],
 "metadata": {
  "kernelspec": {
   "display_name": "Python 3",
   "language": "python",
   "name": "python3"
  },
  "language_info": {
   "codemirror_mode": {
    "name": "ipython",
    "version": 3
   },
   "file_extension": ".py",
   "mimetype": "text/x-python",
   "name": "python",
   "nbconvert_exporter": "python",
   "pygments_lexer": "ipython3",
   "version": "3.6.8"
  }
 },
 "nbformat": 4,
 "nbformat_minor": 2
}
