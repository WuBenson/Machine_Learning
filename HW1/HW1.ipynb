{
 "cells": [
  {
   "cell_type": "code",
   "execution_count": 1,
   "metadata": {},
   "outputs": [],
   "source": [
    "import random"
   ]
  },
  {
   "cell_type": "code",
   "execution_count": 2,
   "metadata": {},
   "outputs": [],
   "source": [
    "def dot(mat_A, mat_B):\n",
    "    Ai = len(mat_A)\n",
    "    Bi = len(mat_B)\n",
    "    Aj = len(mat_A[0])\n",
    "    Bj = len(mat_B[0])\n",
    "    matrix = []\n",
    "    for i in range(Ai):\n",
    "        part = []\n",
    "        for j in range(Bj):\n",
    "            temp = 0\n",
    "            for k in range(Aj):\n",
    "                temp = temp + mat_A[i][k]*mat_B[k][j]\n",
    "            part.append(temp)\n",
    "        matrix.append(part)\n",
    "    return matrix  \n",
    "\n",
    "def T(m):\n",
    "    return [*map(list,zip(*m))]"
   ]
  },
  {
   "cell_type": "code",
   "execution_count": 3,
   "metadata": {},
   "outputs": [],
   "source": [
    "def LU_inv(m):\n",
    "    n = len(m)\n",
    "    L = [[0.0] * n for i in range(n)]\n",
    "    U = [[0.0] * n for i in range(n)]\n",
    "    for i in range(n):\n",
    "        for j in range(n):\n",
    "            if i == j:\n",
    "                L[i][j] = 1.0\n",
    "                temp = 0.0\n",
    "                for k in range(len(m) - 1):\n",
    "                    temp = temp + L[i][k] * U[k][j]\n",
    "                U[i][j] = m[i][j] - temp\n",
    "                \n",
    "            elif i > j:\n",
    "                temp = 0.0\n",
    "                for k in range(len(m[0]) - 1):\n",
    "                    temp = temp + L[i][k]*U[k][j]\n",
    "                L[i][j] = (m[i][j] - temp) / U[j][j]\n",
    "                U[i][j] = 0.0\n",
    "                \n",
    "            else:\n",
    "                L[i][j] = 0.0\n",
    "                temp = 0.0\n",
    "                for k in range(len(m) - 1):\n",
    "                    temp = temp + L[i][k] * U[k][j]\n",
    "                U[i][j] = m[i][j] - temp\n",
    "                \n",
    "    I = [[0.0] * n for i in range(n)]\n",
    "    for i in range(n):\n",
    "        I[i][i] = 1.0\n",
    "\n",
    "    Z = [[0.0] * n for i in range(n)]\n",
    "    Z[0][0] = 1.0\n",
    "    for row_index, row in enumerate(L):\n",
    "        for col_index, col in enumerate(row):\n",
    "            total = 0\n",
    "            for k in range(row_index):\n",
    "                total = total + L[row_index][k] * Z[k][col_index] \n",
    "            Z[row_index][col_index] = I[row_index][col_index] - total\n",
    "\n",
    "    n = len(U)\n",
    "    A_inv = [[0.0] * n for i in range(n)]\n",
    "    for row_index in range(len(U)-1, -1, -1):\n",
    "        for col_index in range(len(U)):\n",
    "            total = 0\n",
    "            for k in range(n-1-row_index):\n",
    "                total = total + U[row_index][n-k-1] * A_inv[n-k-1][col_index] \n",
    "            A_inv[row_index][col_index] = (Z[row_index][col_index] - total) / U[row_index][row_index]\n",
    "\n",
    "    return A_inv"
   ]
  },
  {
   "cell_type": "code",
   "execution_count": 4,
   "metadata": {},
   "outputs": [],
   "source": [
    "def generate_A(A, poly=2):\n",
    "    matrix = []\n",
    "    for element in A:\n",
    "        x = [1]\n",
    "        for p in range(1, poly):\n",
    "            x.append(x[-1] * element)\n",
    "        matrix.append(x)\n",
    "    return matrix"
   ]
  },
  {
   "cell_type": "code",
   "execution_count": 5,
   "metadata": {},
   "outputs": [],
   "source": [
    "def add(A, B):\n",
    "    row = len(A)\n",
    "    col = len(A[0])\n",
    "    if len(A) != len(B) or len(A[0]) != len(B[0]):\n",
    "        print('Error two matrix are not same size!!')\n",
    "        return \n",
    "    else:\n",
    "        m = [[0.0] * col for i in range(row)]\n",
    "        for i in range(row):\n",
    "            for j in range(col):\n",
    "                m[i][j] = A[i][j] + B[i][j]\n",
    "        return m\n",
    "    \n",
    "def sub(A, B):\n",
    "    row = len(A)\n",
    "    col = len(A[0])\n",
    "    if len(A) != len(B) or len(A[0]) != len(B[0]):\n",
    "        print('Error two matrix are not same size!!')\n",
    "        return \n",
    "    else:\n",
    "        m = [[0.0] * col for i in range(row)]\n",
    "        for i in range(row):\n",
    "            for j in range(col):\n",
    "                m[i][j] = A[i][j] - B[i][j]\n",
    "        return m\n",
    "    "
   ]
  },
  {
   "cell_type": "code",
   "execution_count": 71,
   "metadata": {},
   "outputs": [],
   "source": [
    "def poly_model(data, poly, method='newton', epoch=30, c=1):\n",
    "    x = [i[0] for i in data]\n",
    "    b = [[i[1]] for i in data]\n",
    "    A = generate_A(x, poly)\n",
    "    AT = T(A)\n",
    "    \n",
    "    if method=='newton':\n",
    "        X_old = [[random.uniform(-100, 100)] for i in range(poly)]\n",
    "        for _ in range(epoch):\n",
    "            t1 = dot(dot(dot(LU_inv(dot(AT, A)), AT), A), X_old)\n",
    "            t2 = dot(dot(LU_inv(dot(AT, A)), AT), b)\n",
    "            X_new = add(sub(X_old, t1), t2) \n",
    "            X_old = X_new\n",
    "        error = dot(T(sub(dot(A, X_old), b)),sub(dot(A, X_old), b))\n",
    "        print('Newton\\'s Method : ')\n",
    "        print('Total_error = ', error[0][0])\n",
    "        return X_old\n",
    "    \n",
    "    else:\n",
    "        mat = dot(AT, A)\n",
    "        l = len(mat)\n",
    "        I = [[0.0] * l for i in range(l)]\n",
    "        for i in range(l):\n",
    "            I[i][i] = 1.0 * c\n",
    "        coef = dot(dot(LU_inv(add(dot(AT, A), I)), AT), b)\n",
    "        error = dot(T(sub(dot(A, coef), b)),sub(dot(A, coef), b))\n",
    "        print('LSE : ')\n",
    "        print('Total_error = ', error[0][0])\n",
    "        return coef #return X^0 -> X^n"
   ]
  },
  {
   "cell_type": "code",
   "execution_count": 72,
   "metadata": {},
   "outputs": [],
   "source": [
    "def printline(coe):\n",
    "    print('Fitting line :',end='')\n",
    "    for x_i, coef in reversed(list(enumerate(coe))):\n",
    "        op = ' '\n",
    "        if coef[0] > 0 and x_i != len(coe)-1:\n",
    "            op = ' +'\n",
    "        if x_i == 0 :\n",
    "            print(op + str(coef[0])+str(x_i), end='')\n",
    "        else:\n",
    "            print(op + str(coef[0])+'X^'+str(x_i), end='')\n",
    "#     print(x_i, coef[0])"
   ]
  },
  {
   "cell_type": "code",
   "execution_count": 81,
   "metadata": {},
   "outputs": [
    {
     "name": "stdout",
     "output_type": "stream",
     "text": [
      "LSE : \n",
      "Total_error =  22649.738493024146\n",
      "Fitting line : 0.834533282700286X^2 +0.09314819831918814X^1 +0.046950699273469280\n",
      "\n",
      "Newton's Method : \n",
      "Total_error =  26.55995949933305\n",
      "Fitting line : 3.023853393486572X^2 +4.906190263863799X^1 -0.231401756087732220"
     ]
    }
   ],
   "source": [
    "data = [\n",
    "#   [x, y],\n",
    "   [ -5.0,51.76405234596766],\n",
    "[-4.795918367346939,45.42306433039972],\n",
    "[-4.591836734693878,41.274448104888755],\n",
    "[-3.979591836734694,26.636216497466364],\n",
    "[-3.571428571428571,20.256806057008426],\n",
    "[-2.9591836734693877,11.618429243797276],\n",
    "[-2.7551020408163263,10.450525068812203],\n",
    "[-1.7346938775510203,1.8480982318414874],\n",
    "[-1.3265306122448979,-1.0405349639051173],\n",
    "[-0.9183673469387754,-4.614630798757861],\n",
    "[-0.7142857142857144,-1.3871977310902517],\n",
    "[-0.3061224489795915,-1.9916444039966117],\n",
    "[0.1020408163265305,-0.912924608376358],\n",
    "[0.7142857142857144,6.63482003068499],\n",
    "[1.1224489795918373,9.546867459016372],\n",
    "[1.7346938775510203,15.72016146597016],\n",
    "[1.9387755102040813,20.62251683859554],\n",
    "[2.5510204081632653,33.48059725819715],\n",
    "[2.959183673469388,40.76391965675495],\n",
    "[3.979591836734695,66.8997605629381],\n",
    "[4.387755102040817,78.44316465660981],\n",
    "[4.591836734693878,86.99156782355371],\n",
    "[5.0,99.78725971978604]\n",
    "]\n",
    "\n",
    "coe = poly_model(data, 3, 'LSE', c=10000)\n",
    "printline(coe)\n",
    "\n",
    "print('\\n')\n",
    "coe2 = poly_model(data, 3, 'newton', epoch=100)\n",
    "printline(coe2)"
   ]
  },
  {
   "cell_type": "code",
   "execution_count": 82,
   "metadata": {},
   "outputs": [
    {
     "data": {
      "image/png": "[encoded data removed]",
      "text/plain": [
       "<Figure size 720x432 with 1 Axes>"
      ]
     },
     "metadata": {
      "needs_background": "light"
     },
     "output_type": "display_data"
    }
   ],
   "source": [
    "import numpy as np\n",
    "import matplotlib.pyplot as plt\n",
    "%matplotlib inline\n",
    "\n",
    "x1 = np.linspace(-5, 5, 100)\n",
    "\n",
    "ans = []\n",
    "ans2 = []\n",
    "my_x = [i[0] for i in data]\n",
    "my_y = [[i[1]] for i in data]\n",
    "\n",
    "for item in x1:\n",
    "    total = 0\n",
    "    for i in range(len(coe)):\n",
    "        total += pow(item,i)*coe[i][0]\n",
    "    ans.append(total)\n",
    "    \n",
    "    total2 = 0\n",
    "    for i in range(len(coe2)):\n",
    "        total2 += pow(item,i)*coe2[i][0]\n",
    "    ans2.append(total2)\n",
    "\n",
    "plt.figure(figsize=(10,6))\n",
    "plt.scatter(my_x, my_y)\n",
    "plt.plot(x1, ans, 'r--', alpha=0.6, label='LSE (poly='+str(len(coe))+')')\n",
    "plt.plot(x1, ans2, 'g--', alpha=0.6, label='Newton (poly='+str(len(coe2))+')')\n",
    "plt.legend()\n",
    "plt.ylim(-50, 150)\n",
    "plt.show()"
   ]
  },
  {
   "cell_type": "code",
   "execution_count": 9,
   "metadata": {},
   "outputs": [],
   "source": [
    "# def LSE(data, poly):\n",
    "#     x = [i[0] for i in data]\n",
    "#     b = [[i[1]] for i in data]\n",
    "#     A = generate_A(x, poly)\n",
    "#     AT = T(A)\n",
    "#     coef = dot(dot(LU_inv(dot(AT, A)), AT), b)\n",
    "    \n",
    "#     error = dot(T(sub(dot(A, coef), b)),sub(dot(A, coef), b))\n",
    "#     print('LSE_error = ', error[0][0])\n",
    "    \n",
    "#     return coef #return X^0 -> X^n"
   ]
  },
  {
   "cell_type": "code",
   "execution_count": 10,
   "metadata": {},
   "outputs": [],
   "source": [
    "# def newton(data, poly, epoch=10):\n",
    "#     x = [i[0] for i in data]\n",
    "#     b = [[i[1]] for i in data]\n",
    "#     A = generate_A(x, poly)\n",
    "#     AT = T(A)\n",
    "#     X_old = [[random.uniform(-100, 100)] for i in range(poly + 1)]\n",
    "#     for _ in range(epoch):\n",
    "#         t1 = dot(dot(dot(LU_inv(dot(AT, A)), AT), A), X_old)\n",
    "#         t2 = dot(dot(LU_inv(dot(AT, A)), AT), b)\n",
    "#         X_new = add(sub(X_old, t1), t2) \n",
    "#         X_old = X_new\n",
    "        \n",
    "#     error = dot(T(sub(dot(A, X_old), b)),sub(dot(A, X_old), b))\n",
    "#     print('Newton_error = ', error[0][0])\n",
    "    \n",
    "#     return X_old"
   ]
  },
  {
   "cell_type": "code",
   "execution_count": 11,
   "metadata": {},
   "outputs": [],
   "source": [
    "# coe = LSE(data, 3)\n",
    "# print(coe)\n",
    "# print()\n",
    "# coe2 = newton(data, 7)\n",
    "# print(coe2)"
   ]
  }
 ],
 "metadata": {
  "kernelspec": {
   "display_name": "Python 3",
   "language": "python",
   "name": "python3"
  },
  "language_info": {
   "codemirror_mode": {
    "name": "ipython",
    "version": 3
   },
   "file_extension": ".py",
   "mimetype": "text/x-python",
   "name": "python",
   "nbconvert_exporter": "python",
   "pygments_lexer": "ipython3",
   "version": "3.7.0"
  }
 },
 "nbformat": 4,
 "nbformat_minor": 2
}
